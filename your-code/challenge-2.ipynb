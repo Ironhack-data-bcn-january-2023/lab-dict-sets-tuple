{
 "cells": [
  {
   "cell_type": "markdown",
   "metadata": {},
   "source": [
    "## Challenge 2: Sets\n",
    "\n",
    "There are a lot to learn about Python Sets and the information presented in the lesson is limited due to its length. To learn Python Sets in depth you are strongly encouraged to review the W3Schools tutorial on [Python Sets Examples and Methods](https://www.w3schools.com/python/python_sets.asp) before you work on this lab. Some difficult questions in this lab have their solutions in the W3Schools tutorial.\n",
    "\n",
    "#### First, import the Python `random` library."
   ]
  },
  {
   "cell_type": "code",
   "execution_count": 1,
   "metadata": {},
   "outputs": [],
   "source": [
    "import random"
   ]
  },
  {
   "cell_type": "markdown",
   "metadata": {},
   "source": [
    "#### In the cell below, create a list named `sample_list_1` with 80 random values. \n",
    "\n",
    "Requirements:\n",
    "\n",
    "* Each value is an integer falling between 0 and 100.\n",
    "* Each value in the list is unique.\n",
    "\n",
    "Print `sample_list_1` to review its values\n",
    "\n",
    "*Hint: use `random.sample` ([reference](https://docs.python.org/3/library/random.html#random.sample)).*"
   ]
  },
  {
   "cell_type": "code",
   "execution_count": 5,
   "metadata": {},
   "outputs": [
    {
     "data": {
      "text/plain": [
       "[88,\n",
       " 91,\n",
       " 46,\n",
       " 7,\n",
       " 74,\n",
       " 40,\n",
       " 80,\n",
       " 30,\n",
       " 43,\n",
       " 4,\n",
       " 54,\n",
       " 65,\n",
       " 68,\n",
       " 23,\n",
       " 17,\n",
       " 83,\n",
       " 32,\n",
       " 64,\n",
       " 89,\n",
       " 22,\n",
       " 78,\n",
       " 55,\n",
       " 3,\n",
       " 45,\n",
       " 49,\n",
       " 95,\n",
       " 31,\n",
       " 72,\n",
       " 47,\n",
       " 5,\n",
       " 53,\n",
       " 16,\n",
       " 79,\n",
       " 27,\n",
       " 44,\n",
       " 67,\n",
       " 73,\n",
       " 19,\n",
       " 6,\n",
       " 94,\n",
       " 86,\n",
       " 60,\n",
       " 37,\n",
       " 18,\n",
       " 24,\n",
       " 75,\n",
       " 14,\n",
       " 29,\n",
       " 15,\n",
       " 97,\n",
       " 69,\n",
       " 57,\n",
       " 25,\n",
       " 81,\n",
       " 84,\n",
       " 50,\n",
       " 66,\n",
       " 38,\n",
       " 71,\n",
       " 26,\n",
       " 48,\n",
       " 21,\n",
       " 36,\n",
       " 9,\n",
       " 61,\n",
       " 52,\n",
       " 96,\n",
       " 42,\n",
       " 98,\n",
       " 63,\n",
       " 62,\n",
       " 39,\n",
       " 77,\n",
       " 82,\n",
       " 56,\n",
       " 28,\n",
       " 58,\n",
       " 85,\n",
       " 41,\n",
       " 11]"
      ]
     },
     "execution_count": 5,
     "metadata": {},
     "output_type": "execute_result"
    }
   ],
   "source": [
    "# Your code here\n",
    "sample_list_1 = random.sample(range(100), k=80)\n",
    "sample_list_1"
   ]
  },
  {
   "cell_type": "markdown",
   "metadata": {},
   "source": [
    "#### Convert `sample_list_1` to a set called `set1`. Print the length of the set. Is its length still 80?"
   ]
  },
  {
   "cell_type": "code",
   "execution_count": 7,
   "metadata": {},
   "outputs": [
    {
     "data": {
      "text/plain": [
       "80"
      ]
     },
     "execution_count": 7,
     "metadata": {},
     "output_type": "execute_result"
    }
   ],
   "source": [
    "# Your code here\n",
    "set1 = set(sample_list_1)\n",
    "len(set1)"
   ]
  },
  {
   "cell_type": "markdown",
   "metadata": {},
   "source": [
    "#### Create another list named `sample_list_2` with 80 random values.\n",
    "\n",
    "Requirements:\n",
    "\n",
    "* Each value is an integer falling between 0 and 100.\n",
    "* The values in the list don't have to be unique.\n",
    "\n",
    "*Hint: Use a FOR loop.*"
   ]
  },
  {
   "cell_type": "code",
   "execution_count": 35,
   "metadata": {},
   "outputs": [
    {
     "data": {
      "text/plain": [
       "[74,\n",
       " 91,\n",
       " 53,\n",
       " 30,\n",
       " 48,\n",
       " 53,\n",
       " 45,\n",
       " 61,\n",
       " 52,\n",
       " 21,\n",
       " 67,\n",
       " 76,\n",
       " 92,\n",
       " 63,\n",
       " 25,\n",
       " 28,\n",
       " 17,\n",
       " 28,\n",
       " 98,\n",
       " 46,\n",
       " 83,\n",
       " 94,\n",
       " 85,\n",
       " 65,\n",
       " 63,\n",
       " 62,\n",
       " 81,\n",
       " 30,\n",
       " 64,\n",
       " 73,\n",
       " 57,\n",
       " 42,\n",
       " 41,\n",
       " 38,\n",
       " 95,\n",
       " 51,\n",
       " 37,\n",
       " 66,\n",
       " 59,\n",
       " 88,\n",
       " 42,\n",
       " 85,\n",
       " 87,\n",
       " 51,\n",
       " 64,\n",
       " 53,\n",
       " 56,\n",
       " 91,\n",
       " 56,\n",
       " 74,\n",
       " 59,\n",
       " 97,\n",
       " 63,\n",
       " 84,\n",
       " 66,\n",
       " 57,\n",
       " 71,\n",
       " 78,\n",
       " 80,\n",
       " 65,\n",
       " 73,\n",
       " 99,\n",
       " 81,\n",
       " 90,\n",
       " 81,\n",
       " 89,\n",
       " 94,\n",
       " 69,\n",
       " 96,\n",
       " 85,\n",
       " 82,\n",
       " 71,\n",
       " 92,\n",
       " 78,\n",
       " 90,\n",
       " 87,\n",
       " 99,\n",
       " 99,\n",
       " 78,\n",
       " 99]"
      ]
     },
     "execution_count": 35,
     "metadata": {},
     "output_type": "execute_result"
    }
   ],
   "source": [
    "sample_list_2 = []\n",
    "for i in range(80):\n",
    "    sample_list_2.append(random.randint(i,100))\n",
    "sample_list_2"
   ]
  },
  {
   "cell_type": "code",
   "execution_count": 36,
   "metadata": {},
   "outputs": [
    {
     "data": {
      "text/plain": [
       "[17,\n",
       " 64,\n",
       " 81,\n",
       " 65,\n",
       " 98,\n",
       " 1,\n",
       " 73,\n",
       " 59,\n",
       " 48,\n",
       " 44,\n",
       " 64,\n",
       " 8,\n",
       " 57,\n",
       " 52,\n",
       " 42,\n",
       " 99,\n",
       " 94,\n",
       " 91,\n",
       " 19,\n",
       " 59,\n",
       " 62,\n",
       " 80,\n",
       " 90,\n",
       " 56,\n",
       " 19,\n",
       " 97,\n",
       " 36,\n",
       " 57,\n",
       " 44,\n",
       " 46,\n",
       " 7,\n",
       " 43,\n",
       " 15,\n",
       " 81,\n",
       " 20,\n",
       " 63,\n",
       " 78,\n",
       " 72,\n",
       " 68,\n",
       " 38,\n",
       " 60,\n",
       " 65,\n",
       " 58,\n",
       " 76,\n",
       " 44,\n",
       " 32,\n",
       " 98,\n",
       " 29,\n",
       " 97,\n",
       " 55,\n",
       " 3,\n",
       " 31,\n",
       " 93,\n",
       " 27,\n",
       " 32,\n",
       " 49,\n",
       " 44,\n",
       " 1,\n",
       " 74,\n",
       " 34,\n",
       " 17,\n",
       " 65,\n",
       " 87,\n",
       " 93,\n",
       " 44,\n",
       " 6,\n",
       " 58,\n",
       " 7,\n",
       " 58,\n",
       " 63,\n",
       " 71,\n",
       " 84,\n",
       " 32,\n",
       " 46,\n",
       " 66,\n",
       " 76,\n",
       " 71,\n",
       " 55,\n",
       " 19,\n",
       " 83]"
      ]
     },
     "execution_count": 36,
     "metadata": {},
     "output_type": "execute_result"
    }
   ],
   "source": [
    "# Your code here\n",
    "sample_list_2 = []\n",
    "while len(sample_list_2)<80:\n",
    "    sample_list_2.append(random.randint(1,100))\n",
    "    \n",
    "sample_list_2"
   ]
  },
  {
   "cell_type": "markdown",
   "metadata": {},
   "source": [
    "#### Convert `sample_list_2` to a set called `set2`. Print the length of the set. Is its length still 80?"
   ]
  },
  {
   "cell_type": "code",
   "execution_count": 40,
   "metadata": {},
   "outputs": [],
   "source": [
    "# Your code here\n",
    "set2 = set(sample_list_2) \n"
   ]
  },
  {
   "cell_type": "markdown",
   "metadata": {},
   "source": [
    "#### Identify the elements present in `set1` but not in `set2`. Assign the elements to a new set named `set3`."
   ]
  },
  {
   "cell_type": "code",
   "execution_count": 44,
   "metadata": {},
   "outputs": [],
   "source": [
    "# Your code here\n",
    "set3 = set1.difference(set2)\n"
   ]
  },
  {
   "cell_type": "markdown",
   "metadata": {},
   "source": [
    "#### Identify the elements present in `set2` but not in `set1`. Assign the elements to a new set named `set4`."
   ]
  },
  {
   "cell_type": "code",
   "execution_count": 45,
   "metadata": {},
   "outputs": [],
   "source": [
    "# Your code here\n",
    "set4 = set2.difference(set1)"
   ]
  },
  {
   "cell_type": "markdown",
   "metadata": {},
   "source": [
    "#### Now Identify the elements shared between `set1` and `set2`. Assign the elements to a new set named `set5`."
   ]
  },
  {
   "cell_type": "code",
   "execution_count": 46,
   "metadata": {},
   "outputs": [],
   "source": [
    "# Your code here\n",
    "set5 = set1.intersection(set2)"
   ]
  },
  {
   "cell_type": "markdown",
   "metadata": {},
   "source": [
    "#### What is the relationship among the following values:\n",
    "\n",
    "* len(set1)\n",
    "* len(set2)\n",
    "* len(set3)\n",
    "* len(set4)\n",
    "* len(set5)\n",
    "\n",
    "Use a math formular to represent that relationship. Test your formular with Python code."
   ]
  },
  {
   "cell_type": "code",
   "execution_count": 92,
   "metadata": {},
   "outputs": [
    {
     "name": "stdout",
     "output_type": "stream",
     "text": [
      "80\n",
      "53\n",
      "37\n",
      "10\n",
      "43\n"
     ]
    },
    {
     "data": {
      "text/plain": [
       "True"
      ]
     },
     "execution_count": 92,
     "metadata": {},
     "output_type": "execute_result"
    }
   ],
   "source": [
    "# Your code here\n",
    "# set1 = unique random 0-100\n",
    "# set2 = non-unique random 0-100\n",
    "# set3 = values from set 1 not present in set 2\n",
    "# set4 = values from set 2 not present in set 1\n",
    "# set5 = intersection between set1 and set2\n",
    "\n",
    "\n",
    "\n",
    "len(set3) + len(set4) + len(set5) ==len(set1) + len(set2) - len(set5)"
   ]
  },
  {
   "cell_type": "markdown",
   "metadata": {},
   "source": [
    "#### Create an empty set called `set6`."
   ]
  },
  {
   "cell_type": "code",
   "execution_count": 61,
   "metadata": {},
   "outputs": [
    {
     "data": {
      "text/plain": [
       "set"
      ]
     },
     "execution_count": 61,
     "metadata": {},
     "output_type": "execute_result"
    }
   ],
   "source": [
    "# Your code here\n",
    "set6 = set({})\n"
   ]
  },
  {
   "cell_type": "markdown",
   "metadata": {},
   "source": [
    "#### Add `set3` and `set5` to `set6` using the Python Set `update` method."
   ]
  },
  {
   "cell_type": "code",
   "execution_count": 65,
   "metadata": {},
   "outputs": [],
   "source": [
    "# Your code here\n",
    "set6.update(set3)\n",
    "set6.update(set5)\n",
    "\n"
   ]
  },
  {
   "cell_type": "markdown",
   "metadata": {},
   "source": [
    "#### Check if `set1` and `set6` are equal."
   ]
  },
  {
   "cell_type": "code",
   "execution_count": 66,
   "metadata": {},
   "outputs": [
    {
     "data": {
      "text/plain": [
       "True"
      ]
     },
     "execution_count": 66,
     "metadata": {},
     "output_type": "execute_result"
    }
   ],
   "source": [
    "# Your code here\n",
    "set1 == set6"
   ]
  },
  {
   "cell_type": "markdown",
   "metadata": {},
   "source": [
    "#### Check if `set1` contains `set2` using the Python Set `issubset` method. Then check if `set1` contains `set3`.*"
   ]
  },
  {
   "cell_type": "code",
   "execution_count": 93,
   "metadata": {},
   "outputs": [
    {
     "name": "stdout",
     "output_type": "stream",
     "text": [
      "False\n",
      "True\n"
     ]
    }
   ],
   "source": [
    "# Your code here\n",
    "print(set2.issubset(set1))\n",
    "print(set3.issubset(set1))\n",
    "\n"
   ]
  },
  {
   "cell_type": "markdown",
   "metadata": {},
   "source": [
    "#### Using the Python Set `union` method, aggregate `set3`, `set4`, and `set5`. Then aggregate `set1` and `set2`. \n",
    "\n",
    "#### Check if the aggregated values are equal."
   ]
  },
  {
   "cell_type": "code",
   "execution_count": 94,
   "metadata": {},
   "outputs": [],
   "source": [
    "# Your code here\n",
    "set7 = set3.union(set4).union(set5)\n",
    "set8 = set1.union(set2)"
   ]
  },
  {
   "cell_type": "markdown",
   "metadata": {},
   "source": [
    "#### Using the `pop` method, remove the first element from `set1`."
   ]
  },
  {
   "cell_type": "code",
   "execution_count": 121,
   "metadata": {},
   "outputs": [],
   "source": [
    "# Your code here\n",
    "list_set1 = list(set1)\n",
    "list_set1.reverse()\n",
    "list_set1.pop()\n",
    "list_set1.reverse()\n",
    "set_set1 = set(list_set1)\n"
   ]
  },
  {
   "cell_type": "markdown",
   "metadata": {},
   "source": [
    "#### Remove every element in the following list from `set1` if they are present in the set. Print the remaining elements.\n",
    "\n",
    "```\n",
    "list_to_remove = [1, 9, 11, 19, 21, 29, 31, 39, 41, 49, 51, 59, 61, 69, 71, 79, 81, 89, 91, 99]\n",
    "```"
   ]
  },
  {
   "cell_type": "code",
   "execution_count": 122,
   "metadata": {},
   "outputs": [],
   "source": [
    "# Your code here\n",
    "list_to_remove = [1, 9, 11, 19, 21, 29, 31, 39, 41, 49, 51, 59, 61, 69, 71, 79, 81, 89, 91, 99]\n",
    "\n",
    "for i in list_to_remove:\n",
    "    set1.discard(i)\n",
    "        "
   ]
  },
  {
   "cell_type": "code",
   "execution_count": null,
   "metadata": {},
   "outputs": [],
   "source": []
  }
 ],
 "metadata": {
  "kernelspec": {
   "display_name": "Python 3 (ipykernel)",
   "language": "python",
   "name": "python3"
  },
  "language_info": {
   "codemirror_mode": {
    "name": "ipython",
    "version": 3
   },
   "file_extension": ".py",
   "mimetype": "text/x-python",
   "name": "python",
   "nbconvert_exporter": "python",
   "pygments_lexer": "ipython3",
   "version": "3.9.13"
  },
  "nbTranslate": {
   "displayLangs": [
    "en",
    "es"
   ],
   "hotkey": "alt-a",
   "langInMainMenu": true,
   "sourceLang": "es",
   "targetLang": "en",
   "useGoogleTranslate": true
  },
  "toc": {
   "base_numbering": 1,
   "nav_menu": {},
   "number_sections": true,
   "sideBar": true,
   "skip_h1_title": false,
   "title_cell": "Table of Contents",
   "title_sidebar": "Contents",
   "toc_cell": false,
   "toc_position": {},
   "toc_section_display": true,
   "toc_window_display": false
  }
 },
 "nbformat": 4,
 "nbformat_minor": 2
}
